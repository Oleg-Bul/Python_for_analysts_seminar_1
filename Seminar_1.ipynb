{
 "cells": [
  {
   "cell_type": "markdown",
   "id": "a529763b",
   "metadata": {},
   "source": [
    "## Задача 1. Обьединить два словаря и через функцию"
   ]
  },
  {
   "cell_type": "code",
   "execution_count": null,
   "id": "b628bceb",
   "metadata": {},
   "outputs": [],
   "source": [
    "dict1 = {'One': 1, 'Two': 2, 'Three' : 3}\n",
    "dict2 = {'Four': 4, 'Five': 5, 'Six' : 6}"
   ]
  },
  {
   "cell_type": "code",
   "execution_count": 6,
   "id": "30854c9c",
   "metadata": {},
   "outputs": [
    {
     "data": {
      "text/plain": [
       "{'One': 1, 'Two': 2, 'Three': 3, 'Four': 4, 'Five': 5, 'Six': 6}"
      ]
     },
     "execution_count": 6,
     "metadata": {},
     "output_type": "execute_result"
    }
   ],
   "source": [
    "multidict = dict1 | dict2\n",
    "multidict"
   ]
  },
  {
   "cell_type": "code",
   "execution_count": 8,
   "id": "62171964",
   "metadata": {},
   "outputs": [],
   "source": [
    "def dict_merge(d1: dict, d2: dict) -> dict: \n",
    "    return d1 | d2\n"
   ]
  },
  {
   "cell_type": "markdown",
   "id": "81f10fb8",
   "metadata": {},
   "source": [
    "## Задача 2. \n",
    "### Написать функция, которая из двух списков, делает один словарь, где первые это ключи, а второй список значения"
   ]
  },
  {
   "cell_type": "code",
   "execution_count": 12,
   "id": "d300c6d1",
   "metadata": {},
   "outputs": [],
   "source": [
    "keys = ['One', 'Two', 'Three']\n",
    "values = [1, 2, 3]"
   ]
  },
  {
   "cell_type": "code",
   "execution_count": 13,
   "id": "0eaa474d",
   "metadata": {},
   "outputs": [
    {
     "name": "stdout",
     "output_type": "stream",
     "text": [
      "{'One': 1, 'Two': 2, 'Three': 3}\n"
     ]
    }
   ],
   "source": [
    "dictionary = dict(zip(keys, values))\n",
    "print(dictionary)"
   ]
  },
  {
   "cell_type": "markdown",
   "id": "3ebb4c4f",
   "metadata": {},
   "source": [
    "## Задача 3.\n",
    "### Извлеките только два ключа name и age из представленого словаря"
   ]
  },
  {
   "cell_type": "code",
   "execution_count": 14,
   "id": "904e2ef9",
   "metadata": {},
   "outputs": [],
   "source": [
    "client_dict = {\n",
    "    \"name\": \"John\",\n",
    "    \"age\": 25,\n",
    "    \"salary\": 5000,\n",
    "    \"city\": \"Moscow\"\n",
    "}"
   ]
  },
  {
   "cell_type": "code",
   "execution_count": null,
   "id": "3842303c",
   "metadata": {},
   "outputs": [],
   "source": [
    "def my_filt(original_dict, keys: list | turple = ('name', 'age')) -> dict:\n",
    "    result = {}\n",
    "    for i in range(len(fil)):\n",
    "        result[fil[i] = client_dict.get"
   ]
  },
  {
   "cell_type": "markdown",
   "id": "22e78840",
   "metadata": {},
   "source": [
    "## Задача 4.\n",
    "### Создать генератор. На вход принимает список с данными о клиенте.\n"
   ]
  },
  {
   "cell_type": "code",
   "execution_count": 25,
   "id": "ed591cc7",
   "metadata": {},
   "outputs": [],
   "source": [
    "def my_gen():\n",
    "    for i in [1, 22, 12, 31,5, 32]:\n",
    "        yield i * i\n"
   ]
  },
  {
   "cell_type": "code",
   "execution_count": 23,
   "id": "b5f42736",
   "metadata": {},
   "outputs": [
    {
     "name": "stdout",
     "output_type": "stream",
     "text": [
      "1\n",
      "484\n",
      "144\n",
      "961\n",
      "25\n",
      "1024\n"
     ]
    }
   ],
   "source": [
    "a = my_gen()\n",
    "for item in a:\n",
    "    print(item)\n"
   ]
  },
  {
   "cell_type": "code",
   "execution_count": 26,
   "id": "baa5630f",
   "metadata": {},
   "outputs": [
    {
     "name": "stdout",
     "output_type": "stream",
     "text": [
      "1\n",
      "484\n",
      "144\n"
     ]
    }
   ],
   "source": [
    "a = my_gen()\n",
    "print(next(a))\n",
    "print(next(a))\n",
    "print(next(a))"
   ]
  },
  {
   "cell_type": "code",
   "execution_count": 27,
   "id": "260d6c15",
   "metadata": {},
   "outputs": [],
   "source": [
    "def my_gen1():\n",
    "    i = 5\n",
    "    while i < 9:\n",
    "        yield i * i\n",
    "        i += 1"
   ]
  },
  {
   "cell_type": "code",
   "execution_count": 28,
   "id": "06e9a912",
   "metadata": {},
   "outputs": [
    {
     "name": "stdout",
     "output_type": "stream",
     "text": [
      "25\n",
      "36\n",
      "49\n"
     ]
    }
   ],
   "source": [
    "a = my_gen1()\n",
    "print(next(a))\n",
    "print(next(a))\n",
    "print(next(a))"
   ]
  },
  {
   "cell_type": "code",
   "execution_count": 36,
   "id": "b0da695e",
   "metadata": {},
   "outputs": [],
   "source": [
    "from time import time\n",
    "\n",
    "def my_gener(data):\n",
    "    now = time()\n",
    "    for item in data:\n",
    "        now = time()   \n",
    "        yield item\n",
    "        print(time()-now)\n",
    "    "
   ]
  },
  {
   "cell_type": "code",
   "execution_count": 39,
   "id": "93fbf968",
   "metadata": {},
   "outputs": [
    {
     "name": "stdout",
     "output_type": "stream",
     "text": [
      "aaa\n",
      "0.8915972709655762\n",
      "bbb\n",
      "2.935800552368164\n",
      "ccc\n",
      "0.29454994201660156\n"
     ]
    }
   ],
   "source": [
    "from time import sleep\n",
    "from random import random\n",
    "lst = ['aaa', 'bbb', 'ccc']\n",
    "a = my_gener(lst)\n",
    "for i in a:\n",
    "    print(i)\n",
    "    sleep(3 * random())"
   ]
  },
  {
   "cell_type": "code",
   "execution_count": null,
   "id": "39e61e71",
   "metadata": {},
   "outputs": [],
   "source": []
  }
 ],
 "metadata": {
  "kernelspec": {
   "display_name": "Python 3 (ipykernel)",
   "language": "python",
   "name": "python3"
  },
  "language_info": {
   "codemirror_mode": {
    "name": "ipython",
    "version": 3
   },
   "file_extension": ".py",
   "mimetype": "text/x-python",
   "name": "python",
   "nbconvert_exporter": "python",
   "pygments_lexer": "ipython3",
   "version": "3.9.13"
  }
 },
 "nbformat": 4,
 "nbformat_minor": 5
}
